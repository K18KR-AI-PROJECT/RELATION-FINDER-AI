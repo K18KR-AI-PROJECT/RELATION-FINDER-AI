from tkinter import *
import nltk
import ast
import nltk.data
from nltk import pos_tag
from nltk.tokenize import word_tokenize, sent_tokenize
from logpy import Relation, var, facts, run, conde
from nltk.corpus import brown
father=Relation()
mother=Relation()
son=Relation()
daughter=Relation()
grandfather = Relation()
grandmother = Relation()
wife = Relation()
class relation:
    def __init__(self):
        window = Tk()
        window.title("Relation solver")
        self.frame1 = Frame(window)
        self.label1 = Label(self.frame1,text="*******  REALTIONSHIP SOLVER  *******\n",font="Times 15 italic underline")
        self.label1.pack()
        self.frame1.pack()
        
        self.frame2 = Frame(window)
        self.btn1 = Button(self.frame2,text="   Based on relation\t",font = "Times 15 italic", command = self.relationbased)
        self.btn1.pack(side=LEFT)
        self.frame2.pack()
        
        self.frame3 = Frame(window)
        self.label2 = Label(self.frame3,text="\n")
        self.label2.pack()
        self.text=Text(self.frame3)
        self.text.insert(END, "If\ni\ndie\ntrying\natleast\ni\ntried\n")
        self.text.pack()
        self.frame3.pack()
        
        window.mainloop()
    
    def relationbased(self):
        window=Tk()
        window.geometry("1500x500")
        labelw=Label(window,text= "*******  Welcome to relation solver based on relation  *******\n", font = "Times 15 italic underline")
        labelw.pack()
        label1=Label(window,text = "Please enter the corpus : \n",font = "Times 15 italic")
        label1.place(x='200',y='100')
        self.reltext=StringVar()
        self.entry1 =Entry(window,textvariable=self.reltext,width=200)
        self.entry1.place(x='200',y='150')
        btngo = Button(window,text="GO ! ",font='Times 10 bold', command = self.answer1)
        btngo.place(x='700',y='380')
        window.mainloop()
        
    def answer1(self):
        #ques = "Aman is father of Chaman. Chaman is father of Geeta. Geeta is father of Abhik. Who is grandfather of Abhik ?"
        ques=self.entry1.get()
        #ques = "Geeta is mother of Aman. Aman is father of Chaman. Who is grandmother of Chaman"
        print("The test-case:\t", ques)
        word1 = word_tokenize(ques)
        sent1 = sent_tokenize(ques)
        #print(sent1)
        sent = sent1
        sentlast = sent1.pop(-1)
        #print(sentlast)
        # print(sent)
        #print(nltk.pos_tag(word1))
        noun1 = [word for (word, pos) in nltk.pos_tag(word1) if pos[:] == 'NNP']
        noun = list(dict.fromkeys(noun1))
        relation = [word for (word, pos) in nltk.pos_tag(word1) if pos[:] == 'NN']
        relation2 = [word for (word, pos) in nltk.pos_tag(word1) if pos[:] == 'JJR']
        relation3 = [word for (word, pos) in nltk.pos_tag(word1) if pos[:] == 'RB']
        #print(noun)
        charector = noun[-1]
        RelationList = relation + relation2 + relation3
        #print(RelationList)
        Lastsenttoken = word_tokenize(sentlast)
        Pair = {}
        for w in RelationList:
            # RelationList = Relation()
            sentence_with_Relationword = []
            for sentence in sent1:
                if sentence.count(w) > 0:
                    sentence_with_Relationword.append(sentence)
            #print(sentence_with_Relationword)
            lt = []
            for i in range(len(sentence_with_Relationword)):
                x = []
                x = x + word_tokenize(sentence_with_Relationword[i])
                #print(x)

                y = []
                for i in x:
                    for j in noun:
                        if i == j:
                            y = y + [i]
                #print(y)
                lt.append(tuple(y))
            #print(lt)
            Pair[w] = lt
        #print(Pair)
        #print(Lastsenttoken)
        for w in Lastsenttoken:
            if w == 'grandfather':
                #print("grandfather")
                father = Relation()
                rel = Pair['father']
                #print(rel)
                y = ()
                for i in range(len(rel)):
                    y = y + rel[i]
                #print(y)
                facts(father, *rel)
                x = var()
                z = var()
                rel2 = conde((father(x, z), father(z, charector)))
                print(run(0, x, rel2))


            if w == 'grandmother':
                print("grandmother")
                #father = Relation()
                #mother = Relation()
                rel1 = Pair['father']
                rel2 = Pair['mother']
                facts(mother, *rel2)
                facts(father, *rel1)
                x = var()
                z = var()
                rel3 = conde((mother(x,z), father(z, charector)))
                print(run(0, x, rel3))



            if w == 'father':
                print("father")
                #son=Relation()
                if('son' in RelationList):
                    rel1=Pair['son']
                    print(rel1[0][1])
                elif('daughter' in RelationList):
                    rel2=Pair['daughter']
                    print(rel2[0][1])
                

            if w == 'mother':
                print("mother")
                #son=Relation()
                if('son' in RelationList):
                    rel1=Pair['son']
                    print(rel1[0][1])
                elif('daughter' in RelationList):
                    rel2=Pair['daughter']
                    print(rel2[0][1])
                    
                
            if w == ('son'):
                print("son")
                rel1=Pair['father']
                print(*rel1)
                print(rel1[0][1])
                
            
            if w == 'daughter':
                print('daughter')
                rel1=Pair['father']
                print(rel1[0][1])
                
                
            if w == 'uncle':
                print("Uncle")
                rel1= Pair['father']
                rel2 = Pair['brother']
                #print(*rel1)
                #print(*rel2)
                father = Relation()
                brother = Relation()
                facts(father, *rel1)
                facts(brother, *rel2)
                x=var()
                z=var()
                rel3= conde((brother(z, x), father(z, charector)))
                print(run(0, x, rel3))
            if w == 'aunt':
                print("Aunt")
                rel1= Pair['father']
                rel2 = Pair['sister']
                #print(*rel1)
                #print(*rel2)
                father = Relation()
                sister = Relation()
                facts(father, *rel1)
                facts(sister, *rel2)
                x=var()
                z=var()
                rel3= conde((sister(x, z), father(z, charector)))
                print(run(0,x,rel3))
                
            if w == 'nephew':
                print("Nephew")
                rel1=Pair['brother']
                rel2=Pair['father']
                brother = Relation()
                father = Relation()
                print(*rel1)
                print(*rel2)
                facts(brother , *rel1)
                facts(father, *rel2)
                x=var()
                z=var()
                rel3 = conde((father(z, x), brother(z, charector)))
                print(run(0,x,rel3))

            if w == 'niece':
                print("Neice")
                rel1=Pair['brother']
                rel2=Pair['father']
                brother = Relation()
                father = Relation()
                print(*rel1)
                print(*rel2)
                facts(brother , *rel1)
                facts(father, *rel2)
                x=var()
                z=var()
                rel3 = conde((father(z, x), brother(z, charector)))
                print(run(0,x,rel3))

    
relation()
